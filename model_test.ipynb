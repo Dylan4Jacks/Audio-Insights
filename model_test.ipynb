{
 "cells": [
  {
   "cell_type": "code",
   "execution_count": 34,
   "metadata": {},
   "outputs": [
    {
     "name": "stdout",
     "output_type": "stream",
     "text": [
      "Predicted class: Piano\n",
      "Predicted probability: 57.83%\n",
      "\n"
     ]
    }
   ],
   "source": [
    "import tensorflow as tf\n",
    "\n",
    "# Load the saved model\n",
    "imported = tf.saved_model.load('/Users/yash/Git/Audio-Insights/models/GUI_model')\n",
    "\n",
    "# Get the prediction dictionary\n",
    "prediction = imported('/Users/yash/Git/Audio-Insights/Data/IRMAS-TrainingData/flu/[flu][cla]0346__1.wav')\n",
    "\n",
    "# Get the predicted class name and probability\n",
    "#predicted_class_name = prediction['class_names'][0].numpy().decode('utf-8')\n",
    "predicted_class_id = prediction['class_ids'][0].numpy()\n",
    "predicted_probability = 100 * prediction['predictions'][0][0].numpy()\n",
    "\n",
    "label_names = ['Piano','Voice', 'Trumpet', 'Saxophone', 'Organ' ,'Clarinent' ,'Acoutic Guitar' ,'Violin', 'Flute', 'Electric Guitar', 'Cello']\n",
    "# Print the predicted class name and probability\n",
    "#print(\"Predicted class:\", label_names[predicted_class_id])\n",
    "#print(\"Predicted probability:\", '{:.2f}%'.format(predicted_probability))\n",
    "\n",
    "\n",
    "# Check if there's only one class with high probability\n",
    "for idx, val in enumerate(prediction['predictions'][0].numpy()):\n",
    "    if val > 0.5:  # Set threshold based on your dataset\n",
    "        print(\"Predicted class:\", label_names[idx])\n",
    "        print(\"Predicted probability:\", '{:.2f}%'.format(100 * prediction['predictions'][0][idx].numpy()))\n",
    "        print()\n",
    "    else:\n",
    "       continue\n",
    "\n"
   ]
  },
  {
   "cell_type": "code",
   "execution_count": null,
   "metadata": {},
   "outputs": [],
   "source": []
  }
 ],
 "metadata": {
  "kernelspec": {
   "display_name": "base",
   "language": "python",
   "name": "python3"
  },
  "language_info": {
   "codemirror_mode": {
    "name": "ipython",
    "version": 3
   },
   "file_extension": ".py",
   "mimetype": "text/x-python",
   "name": "python",
   "nbconvert_exporter": "python",
   "pygments_lexer": "ipython3",
   "version": "3.10.10"
  },
  "orig_nbformat": 4
 },
 "nbformat": 4,
 "nbformat_minor": 2
}
